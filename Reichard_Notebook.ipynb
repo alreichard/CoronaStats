{
 "cells": [
  {
   "cell_type": "markdown",
   "metadata": {},
   "source": [
    "Class 16, Pair programming, Looking things up on the web, Andrea shows you her homework"
   ]
  },
  {
   "cell_type": "markdown",
   "metadata": {},
   "source": [
    "pollev.com/andrealommen368"
   ]
  },
  {
   "cell_type": "markdown",
   "metadata": {},
   "source": [
    "Andrea's homework'"
   ]
  },
  {
   "cell_type": "markdown",
   "metadata": {},
   "source": [
    "Quizzes are back!!"
   ]
  },
  {
   "cell_type": "markdown",
   "metadata": {},
   "source": [
    "Pair programming assignment: \n",
    "With your partner, come up with something you want to do with one\n",
    "of the csv's on the web that would require a function you don't\n",
    "know.  Look it up on the web and accomplish your self-assigned task.\n",
    "\n",
    "A few suggestions:\n",
    "* Make a legend on your plot\n",
    "* Create a different kind of plot (bar graph perhaps?)\n",
    "* Change the size of your tick marks"
   ]
  },
  {
   "cell_type": "code",
   "execution_count": 1,
   "metadata": {},
   "outputs": [
    {
     "name": "stderr",
     "output_type": "stream",
     "text": [
      "/packages/python3.6.8/lib/python3.6/site-packages/pandas-1.0.1-py3.6-linux-x86_64.egg/pandas/compat/__init__.py:117: UserWarning: Could not import the lzma module. Your installed Python is incomplete. Attempting to use lzma compression will result in a RuntimeError.\n",
      "  warnings.warn(msg)\n"
     ]
    }
   ],
   "source": [
    "import pandas as pd\n",
    "import matplotlib.pyplot as plt\n",
    "import numpy as np\n",
    "import copy\n",
    "from scipy.optimize import curve_fit"
   ]
  },
  {
   "cell_type": "markdown",
   "metadata": {},
   "source": [
    "# \"How does the number of staffed hospital beds a state has affect the death rate of Covid-19?”\n"
   ]
  },
  {
   "cell_type": "markdown",
   "metadata": {},
   "source": [
    "# First I read in my three data sets\n",
    "Element 1(Reading in a public data set):"
   ]
  },
  {
   "cell_type": "code",
   "execution_count": 2,
   "metadata": {},
   "outputs": [
    {
     "data": {
      "text/html": [
       "<div>\n",
       "<style scoped>\n",
       "    .dataframe tbody tr th:only-of-type {\n",
       "        vertical-align: middle;\n",
       "    }\n",
       "\n",
       "    .dataframe tbody tr th {\n",
       "        vertical-align: top;\n",
       "    }\n",
       "\n",
       "    .dataframe thead th {\n",
       "        text-align: right;\n",
       "    }\n",
       "</style>\n",
       "<table border=\"1\" class=\"dataframe\">\n",
       "  <thead>\n",
       "    <tr style=\"text-align: right;\">\n",
       "      <th></th>\n",
       "      <th>state</th>\n",
       "      <th>Population</th>\n",
       "    </tr>\n",
       "  </thead>\n",
       "  <tbody>\n",
       "    <tr>\n",
       "      <th>0</th>\n",
       "      <td>Table 1. Annual Estimates of the Resident Popu...</td>\n",
       "      <td>NaN</td>\n",
       "    </tr>\n",
       "    <tr>\n",
       "      <th>1</th>\n",
       "      <td>Geographic Area</td>\n",
       "      <td>NaN</td>\n",
       "    </tr>\n",
       "    <tr>\n",
       "      <th>2</th>\n",
       "      <td>NaN</td>\n",
       "      <td>2019</td>\n",
       "    </tr>\n",
       "    <tr>\n",
       "      <th>3</th>\n",
       "      <td>United States</td>\n",
       "      <td>328,239,523</td>\n",
       "    </tr>\n",
       "    <tr>\n",
       "      <th>4</th>\n",
       "      <td>Northeast</td>\n",
       "      <td>55,982,803</td>\n",
       "    </tr>\n",
       "    <tr>\n",
       "      <th>5</th>\n",
       "      <td>Midwest</td>\n",
       "      <td>68,329,004</td>\n",
       "    </tr>\n",
       "    <tr>\n",
       "      <th>6</th>\n",
       "      <td>South</td>\n",
       "      <td>125,580,448</td>\n",
       "    </tr>\n",
       "    <tr>\n",
       "      <th>7</th>\n",
       "      <td>West</td>\n",
       "      <td>78,347,268</td>\n",
       "    </tr>\n",
       "    <tr>\n",
       "      <th>8</th>\n",
       "      <td>Alabama</td>\n",
       "      <td>4903185</td>\n",
       "    </tr>\n",
       "    <tr>\n",
       "      <th>9</th>\n",
       "      <td>Alaska</td>\n",
       "      <td>731545</td>\n",
       "    </tr>\n",
       "    <tr>\n",
       "      <th>10</th>\n",
       "      <td>Arizona</td>\n",
       "      <td>7278717</td>\n",
       "    </tr>\n",
       "    <tr>\n",
       "      <th>11</th>\n",
       "      <td>Arkansas</td>\n",
       "      <td>3017804</td>\n",
       "    </tr>\n",
       "    <tr>\n",
       "      <th>12</th>\n",
       "      <td>California</td>\n",
       "      <td>39512223</td>\n",
       "    </tr>\n",
       "    <tr>\n",
       "      <th>13</th>\n",
       "      <td>Colorado</td>\n",
       "      <td>5758736</td>\n",
       "    </tr>\n",
       "    <tr>\n",
       "      <th>14</th>\n",
       "      <td>Connecticut</td>\n",
       "      <td>3565287</td>\n",
       "    </tr>\n",
       "    <tr>\n",
       "      <th>15</th>\n",
       "      <td>Delaware</td>\n",
       "      <td>973764</td>\n",
       "    </tr>\n",
       "    <tr>\n",
       "      <th>16</th>\n",
       "      <td>District of Columbia</td>\n",
       "      <td>705749</td>\n",
       "    </tr>\n",
       "    <tr>\n",
       "      <th>17</th>\n",
       "      <td>Florida</td>\n",
       "      <td>21477737</td>\n",
       "    </tr>\n",
       "    <tr>\n",
       "      <th>18</th>\n",
       "      <td>Georgia</td>\n",
       "      <td>10617423</td>\n",
       "    </tr>\n",
       "    <tr>\n",
       "      <th>19</th>\n",
       "      <td>Hawaii</td>\n",
       "      <td>1415872</td>\n",
       "    </tr>\n",
       "  </tbody>\n",
       "</table>\n",
       "</div>"
      ],
      "text/plain": [
       "                                                state   Population\n",
       "0   Table 1. Annual Estimates of the Resident Popu...          NaN\n",
       "1                                     Geographic Area          NaN\n",
       "2                                                 NaN         2019\n",
       "3                                       United States  328,239,523\n",
       "4                                           Northeast   55,982,803\n",
       "5                                             Midwest   68,329,004\n",
       "6                                               South  125,580,448\n",
       "7                                                West   78,347,268\n",
       "8                                             Alabama      4903185\n",
       "9                                              Alaska       731545\n",
       "10                                            Arizona      7278717\n",
       "11                                           Arkansas      3017804\n",
       "12                                         California     39512223\n",
       "13                                           Colorado      5758736\n",
       "14                                        Connecticut      3565287\n",
       "15                                           Delaware       973764\n",
       "16                               District of Columbia       705749\n",
       "17                                            Florida     21477737\n",
       "18                                            Georgia     10617423\n",
       "19                                             Hawaii      1415872"
      ]
     },
     "execution_count": 2,
     "metadata": {},
     "output_type": "execute_result"
    }
   ],
   "source": [
    "\n",
    "statepop = pd.read_csv(\"statepops.csv\", delimiter=',')\n",
    "statepop = statepop[['state','Unnamed: 12']] #Chose the two columns to use\n",
    "statepop.rename({'Unnamed: 12': 'Population'}, axis=1, inplace=True) #renamed two columns\n",
    "statepop.head(20)\n"
   ]
  },
  {
   "cell_type": "code",
   "execution_count": 3,
   "metadata": {},
   "outputs": [
    {
     "data": {
      "text/html": [
       "<div>\n",
       "<style scoped>\n",
       "    .dataframe tbody tr th:only-of-type {\n",
       "        vertical-align: middle;\n",
       "    }\n",
       "\n",
       "    .dataframe tbody tr th {\n",
       "        vertical-align: top;\n",
       "    }\n",
       "\n",
       "    .dataframe thead th {\n",
       "        text-align: right;\n",
       "    }\n",
       "</style>\n",
       "<table border=\"1\" class=\"dataframe\">\n",
       "  <thead>\n",
       "    <tr style=\"text-align: right;\">\n",
       "      <th></th>\n",
       "      <th>State</th>\n",
       "      <th>Number of staffed beds</th>\n",
       "    </tr>\n",
       "  </thead>\n",
       "  <tbody>\n",
       "    <tr>\n",
       "      <th>0</th>\n",
       "      <td>Alaska</td>\n",
       "      <td>1235</td>\n",
       "    </tr>\n",
       "    <tr>\n",
       "      <th>1</th>\n",
       "      <td>Alabama</td>\n",
       "      <td>15639</td>\n",
       "    </tr>\n",
       "    <tr>\n",
       "      <th>2</th>\n",
       "      <td>Arkansas</td>\n",
       "      <td>7818</td>\n",
       "    </tr>\n",
       "    <tr>\n",
       "      <th>3</th>\n",
       "      <td>Arizona</td>\n",
       "      <td>13434</td>\n",
       "    </tr>\n",
       "    <tr>\n",
       "      <th>4</th>\n",
       "      <td>California</td>\n",
       "      <td>73811</td>\n",
       "    </tr>\n",
       "  </tbody>\n",
       "</table>\n",
       "</div>"
      ],
      "text/plain": [
       "        State  Number of staffed beds\n",
       "0      Alaska                    1235\n",
       "1     Alabama                   15639\n",
       "2    Arkansas                    7818\n",
       "3     Arizona                   13434\n",
       "4  California                   73811"
      ]
     },
     "execution_count": 3,
     "metadata": {},
     "output_type": "execute_result"
    }
   ],
   "source": [
    "stafbeds = pd.read_csv(\"staffedbeds.csv\", delimiter=',')\n",
    "\n",
    "stafbeds.head(5)"
   ]
  },
  {
   "cell_type": "code",
   "execution_count": 4,
   "metadata": {},
   "outputs": [
    {
     "data": {
      "text/html": [
       "<div>\n",
       "<style scoped>\n",
       "    .dataframe tbody tr th:only-of-type {\n",
       "        vertical-align: middle;\n",
       "    }\n",
       "\n",
       "    .dataframe tbody tr th {\n",
       "        vertical-align: top;\n",
       "    }\n",
       "\n",
       "    .dataframe thead th {\n",
       "        text-align: right;\n",
       "    }\n",
       "</style>\n",
       "<table border=\"1\" class=\"dataframe\">\n",
       "  <thead>\n",
       "    <tr style=\"text-align: right;\">\n",
       "      <th></th>\n",
       "      <th>Unnamed: 0</th>\n",
       "      <th>location_name</th>\n",
       "      <th>date</th>\n",
       "      <th>allbed_mean</th>\n",
       "      <th>allbed_lower</th>\n",
       "      <th>allbed_upper</th>\n",
       "      <th>ICUbed_mean</th>\n",
       "      <th>ICUbed_lower</th>\n",
       "      <th>ICUbed_upper</th>\n",
       "      <th>InvVen_mean</th>\n",
       "      <th>...</th>\n",
       "      <th>newICU_upper</th>\n",
       "      <th>totdea_mean</th>\n",
       "      <th>totdea_lower</th>\n",
       "      <th>totdea_upper</th>\n",
       "      <th>bedover_mean</th>\n",
       "      <th>bedover_lower</th>\n",
       "      <th>bedover_upper</th>\n",
       "      <th>icuover_mean</th>\n",
       "      <th>icuover_lower</th>\n",
       "      <th>icuover_upper</th>\n",
       "    </tr>\n",
       "  </thead>\n",
       "  <tbody>\n",
       "    <tr>\n",
       "      <th>0</th>\n",
       "      <td>1</td>\n",
       "      <td>Wyoming</td>\n",
       "      <td>1/3/20</td>\n",
       "      <td>0.0</td>\n",
       "      <td>0.0</td>\n",
       "      <td>0.0</td>\n",
       "      <td>0.0</td>\n",
       "      <td>0.0</td>\n",
       "      <td>0.0</td>\n",
       "      <td>0.0</td>\n",
       "      <td>...</td>\n",
       "      <td>0.0</td>\n",
       "      <td>0.0</td>\n",
       "      <td>0.0</td>\n",
       "      <td>0.0</td>\n",
       "      <td>0.0</td>\n",
       "      <td>0.0</td>\n",
       "      <td>0.0</td>\n",
       "      <td>0.0</td>\n",
       "      <td>0.0</td>\n",
       "      <td>0.0</td>\n",
       "    </tr>\n",
       "    <tr>\n",
       "      <th>1</th>\n",
       "      <td>2</td>\n",
       "      <td>Wyoming</td>\n",
       "      <td>1/4/20</td>\n",
       "      <td>0.0</td>\n",
       "      <td>0.0</td>\n",
       "      <td>0.0</td>\n",
       "      <td>0.0</td>\n",
       "      <td>0.0</td>\n",
       "      <td>0.0</td>\n",
       "      <td>0.0</td>\n",
       "      <td>...</td>\n",
       "      <td>0.0</td>\n",
       "      <td>0.0</td>\n",
       "      <td>0.0</td>\n",
       "      <td>0.0</td>\n",
       "      <td>0.0</td>\n",
       "      <td>0.0</td>\n",
       "      <td>0.0</td>\n",
       "      <td>0.0</td>\n",
       "      <td>0.0</td>\n",
       "      <td>0.0</td>\n",
       "    </tr>\n",
       "    <tr>\n",
       "      <th>2</th>\n",
       "      <td>3</td>\n",
       "      <td>Wyoming</td>\n",
       "      <td>1/5/20</td>\n",
       "      <td>0.0</td>\n",
       "      <td>0.0</td>\n",
       "      <td>0.0</td>\n",
       "      <td>0.0</td>\n",
       "      <td>0.0</td>\n",
       "      <td>0.0</td>\n",
       "      <td>0.0</td>\n",
       "      <td>...</td>\n",
       "      <td>0.0</td>\n",
       "      <td>0.0</td>\n",
       "      <td>0.0</td>\n",
       "      <td>0.0</td>\n",
       "      <td>0.0</td>\n",
       "      <td>0.0</td>\n",
       "      <td>0.0</td>\n",
       "      <td>0.0</td>\n",
       "      <td>0.0</td>\n",
       "      <td>0.0</td>\n",
       "    </tr>\n",
       "    <tr>\n",
       "      <th>3</th>\n",
       "      <td>4</td>\n",
       "      <td>Wyoming</td>\n",
       "      <td>1/6/20</td>\n",
       "      <td>0.0</td>\n",
       "      <td>0.0</td>\n",
       "      <td>0.0</td>\n",
       "      <td>0.0</td>\n",
       "      <td>0.0</td>\n",
       "      <td>0.0</td>\n",
       "      <td>0.0</td>\n",
       "      <td>...</td>\n",
       "      <td>0.0</td>\n",
       "      <td>0.0</td>\n",
       "      <td>0.0</td>\n",
       "      <td>0.0</td>\n",
       "      <td>0.0</td>\n",
       "      <td>0.0</td>\n",
       "      <td>0.0</td>\n",
       "      <td>0.0</td>\n",
       "      <td>0.0</td>\n",
       "      <td>0.0</td>\n",
       "    </tr>\n",
       "    <tr>\n",
       "      <th>4</th>\n",
       "      <td>5</td>\n",
       "      <td>Wyoming</td>\n",
       "      <td>1/7/20</td>\n",
       "      <td>0.0</td>\n",
       "      <td>0.0</td>\n",
       "      <td>0.0</td>\n",
       "      <td>0.0</td>\n",
       "      <td>0.0</td>\n",
       "      <td>0.0</td>\n",
       "      <td>0.0</td>\n",
       "      <td>...</td>\n",
       "      <td>0.0</td>\n",
       "      <td>0.0</td>\n",
       "      <td>0.0</td>\n",
       "      <td>0.0</td>\n",
       "      <td>0.0</td>\n",
       "      <td>0.0</td>\n",
       "      <td>0.0</td>\n",
       "      <td>0.0</td>\n",
       "      <td>0.0</td>\n",
       "      <td>0.0</td>\n",
       "    </tr>\n",
       "  </tbody>\n",
       "</table>\n",
       "<p>5 rows × 30 columns</p>\n",
       "</div>"
      ],
      "text/plain": [
       "   Unnamed: 0 location_name    date  allbed_mean  allbed_lower  allbed_upper  \\\n",
       "0           1       Wyoming  1/3/20          0.0           0.0           0.0   \n",
       "1           2       Wyoming  1/4/20          0.0           0.0           0.0   \n",
       "2           3       Wyoming  1/5/20          0.0           0.0           0.0   \n",
       "3           4       Wyoming  1/6/20          0.0           0.0           0.0   \n",
       "4           5       Wyoming  1/7/20          0.0           0.0           0.0   \n",
       "\n",
       "   ICUbed_mean  ICUbed_lower  ICUbed_upper  InvVen_mean  ...  newICU_upper  \\\n",
       "0          0.0           0.0           0.0          0.0  ...           0.0   \n",
       "1          0.0           0.0           0.0          0.0  ...           0.0   \n",
       "2          0.0           0.0           0.0          0.0  ...           0.0   \n",
       "3          0.0           0.0           0.0          0.0  ...           0.0   \n",
       "4          0.0           0.0           0.0          0.0  ...           0.0   \n",
       "\n",
       "   totdea_mean  totdea_lower  totdea_upper  bedover_mean  bedover_lower  \\\n",
       "0          0.0           0.0           0.0           0.0            0.0   \n",
       "1          0.0           0.0           0.0           0.0            0.0   \n",
       "2          0.0           0.0           0.0           0.0            0.0   \n",
       "3          0.0           0.0           0.0           0.0            0.0   \n",
       "4          0.0           0.0           0.0           0.0            0.0   \n",
       "\n",
       "   bedover_upper  icuover_mean  icuover_lower  icuover_upper  \n",
       "0            0.0           0.0            0.0            0.0  \n",
       "1            0.0           0.0            0.0            0.0  \n",
       "2            0.0           0.0            0.0            0.0  \n",
       "3            0.0           0.0            0.0            0.0  \n",
       "4            0.0           0.0            0.0            0.0  \n",
       "\n",
       "[5 rows x 30 columns]"
      ]
     },
     "execution_count": 4,
     "metadata": {},
     "output_type": "execute_result"
    }
   ],
   "source": [
    "Hospit = pd.read_csv(\"Hospitalization_all_locs.csv\", delimiter=',')\n",
    "Hospit.head(5)"
   ]
  },
  {
   "cell_type": "markdown",
   "metadata": {},
   "source": [
    "The Hospit data set and statepop had extra elements that did not match up with the third data set, stafbeds:"
   ]
  },
  {
   "cell_type": "code",
   "execution_count": 5,
   "metadata": {},
   "outputs": [],
   "source": [
    "statepop=statepop.loc[statepop['state'].isin(stafbeds.State)] #separates all data that has the name of the states \n",
    "#in statepop that are also in stafbeds\n",
    "statepop=copy.deepcopy(statepop) #copies the data frame with only the necessary rows indicated above, and creates a \n",
    "#new data set\n"
   ]
  },
  {
   "cell_type": "code",
   "execution_count": 6,
   "metadata": {},
   "outputs": [],
   "source": [
    "#Same thing as above but with Hospit states instead of statepop\n",
    "Hospit=Hospit.loc[Hospit['location_name'].isin(stafbeds.State)]\n",
    "Hospit=copy.deepcopy(Hospit)\n"
   ]
  },
  {
   "cell_type": "markdown",
   "metadata": {},
   "source": [
    "Hospit had all of its information by day for each state, so I had to make it the sum of the important data (all deaths from Covid-19 and all administered into the hospital for Covid-19). I also put the data into the same order as stafbeds to make it easier to add them to the same graph."
   ]
  },
  {
   "cell_type": "code",
   "execution_count": 7,
   "metadata": {},
   "outputs": [],
   "source": [
    "mdeaths=[] #new blank array\n",
    "for eachstate in stafbeds.State: #for loop \n",
    "    mdeaths.append(sum(Hospit.loc[(Hospit['location_name']==eachstate)].deaths_mean)) #takes agrigate of deaths_mean\n",
    "    #as Hospit state equals the 'eachstate' from the for loop \n"
   ]
  },
  {
   "cell_type": "code",
   "execution_count": 8,
   "metadata": {},
   "outputs": [],
   "source": [
    "#Does same as above but for 'admis_mean' (administered to the hospital)\n",
    "adminis=[]\n",
    "for eachstate in stafbeds.State:\n",
    "    adminis.append(sum(Hospit.loc[(Hospit['location_name']==eachstate)].admis_mean))"
   ]
  },
  {
   "cell_type": "code",
   "execution_count": 9,
   "metadata": {},
   "outputs": [],
   "source": [
    "deathper=[] #blank array\n",
    "for i in range(0,len(stafbeds.State)): #for loop, 'i' will equal each index in stafbeds \n",
    "    deathper.append((mdeaths[i]/adminis[i])*100) #devides two arrays created above \n"
   ]
  },
  {
   "cell_type": "markdown",
   "metadata": {},
   "source": [
    "# statepop was also not in the same order, so I decided to test out a dictionary to get it in the same order"
   ]
  },
  {
   "cell_type": "markdown",
   "metadata": {},
   "source": [
    "Element 2: Dictionaries or panda data structures"
   ]
  },
  {
   "cell_type": "code",
   "execution_count": 10,
   "metadata": {},
   "outputs": [],
   "source": [
    "a =list(statepop.state)\n",
    "b =list(statepop.Population) #creates two lists\n",
    "state_lookup = {a[i]: b[i] for i in range(len(a))} #state name is the called upon key, Population is the value\n"
   ]
  },
  {
   "cell_type": "code",
   "execution_count": 11,
   "metadata": {},
   "outputs": [],
   "source": [
    "alphapop=[]   # creates an empty\n",
    "for location in stafbeds.State: #for loop to run through all locations in stafbed states\n",
    "    alphapop.append(state_lookup[location]) #appends values from the dictionary as the keys equals each 'location'"
   ]
  },
  {
   "cell_type": "code",
   "execution_count": 55,
   "metadata": {},
   "outputs": [],
   "source": [
    "\n",
    "stafbeds['Number of staffed beds'] = stafbeds['Number of staffed beds'].astype(int)\n",
    "statepop['Population'] = statepop['Population'].astype(int) #changes columns into integer type\n",
    "numbers_list = stafbeds['Number of staffed beds'].tolist()\n",
    "empty_list = []\n",
    "for x in range(len(alphapop)):\n",
    "    adding = int(alphapop[x])/numbers_list[x]\n",
    "    empty_list.append(adding)\n",
    "    \n",
    "    \n",
    "stafbeds['People per Bed']= empty_list#adds new columns to stafbed\n"
   ]
  },
  {
   "cell_type": "markdown",
   "metadata": {},
   "source": [
    "Element 3: simulating a data set"
   ]
  },
  {
   "cell_type": "code",
   "execution_count": 56,
   "metadata": {},
   "outputs": [
    {
     "data": {
      "text/html": [
       "<div>\n",
       "<style scoped>\n",
       "    .dataframe tbody tr th:only-of-type {\n",
       "        vertical-align: middle;\n",
       "    }\n",
       "\n",
       "    .dataframe tbody tr th {\n",
       "        vertical-align: top;\n",
       "    }\n",
       "\n",
       "    .dataframe thead th {\n",
       "        text-align: right;\n",
       "    }\n",
       "</style>\n",
       "<table border=\"1\" class=\"dataframe\">\n",
       "  <thead>\n",
       "    <tr style=\"text-align: right;\">\n",
       "      <th></th>\n",
       "      <th>State</th>\n",
       "      <th>Number of staffed beds</th>\n",
       "      <th>Death Percent</th>\n",
       "      <th>People per Bed</th>\n",
       "    </tr>\n",
       "  </thead>\n",
       "  <tbody>\n",
       "    <tr>\n",
       "      <th>0</th>\n",
       "      <td>Alaska</td>\n",
       "      <td>1235</td>\n",
       "      <td>17.623701</td>\n",
       "      <td>592.344130</td>\n",
       "    </tr>\n",
       "    <tr>\n",
       "      <th>1</th>\n",
       "      <td>Alabama</td>\n",
       "      <td>15639</td>\n",
       "      <td>27.074566</td>\n",
       "      <td>313.522923</td>\n",
       "    </tr>\n",
       "    <tr>\n",
       "      <th>2</th>\n",
       "      <td>Arkansas</td>\n",
       "      <td>7818</td>\n",
       "      <td>20.363115</td>\n",
       "      <td>386.007163</td>\n",
       "    </tr>\n",
       "    <tr>\n",
       "      <th>3</th>\n",
       "      <td>Arizona</td>\n",
       "      <td>13434</td>\n",
       "      <td>20.389640</td>\n",
       "      <td>541.813086</td>\n",
       "    </tr>\n",
       "    <tr>\n",
       "      <th>4</th>\n",
       "      <td>California</td>\n",
       "      <td>73811</td>\n",
       "      <td>18.553872</td>\n",
       "      <td>535.316186</td>\n",
       "    </tr>\n",
       "    <tr>\n",
       "      <th>5</th>\n",
       "      <td>Colorado</td>\n",
       "      <td>8246</td>\n",
       "      <td>19.818004</td>\n",
       "      <td>698.367208</td>\n",
       "    </tr>\n",
       "    <tr>\n",
       "      <th>6</th>\n",
       "      <td>Connecticut</td>\n",
       "      <td>8851</td>\n",
       "      <td>20.988604</td>\n",
       "      <td>402.811773</td>\n",
       "    </tr>\n",
       "    <tr>\n",
       "      <th>7</th>\n",
       "      <td>District of Columbia</td>\n",
       "      <td>2151</td>\n",
       "      <td>19.227864</td>\n",
       "      <td>328.102743</td>\n",
       "    </tr>\n",
       "    <tr>\n",
       "      <th>8</th>\n",
       "      <td>Delaware</td>\n",
       "      <td>2042</td>\n",
       "      <td>18.007546</td>\n",
       "      <td>476.867777</td>\n",
       "    </tr>\n",
       "    <tr>\n",
       "      <th>9</th>\n",
       "      <td>Florida</td>\n",
       "      <td>56247</td>\n",
       "      <td>22.533865</td>\n",
       "      <td>381.846801</td>\n",
       "    </tr>\n",
       "    <tr>\n",
       "      <th>10</th>\n",
       "      <td>Georgia</td>\n",
       "      <td>22157</td>\n",
       "      <td>21.148818</td>\n",
       "      <td>479.190459</td>\n",
       "    </tr>\n",
       "    <tr>\n",
       "      <th>11</th>\n",
       "      <td>Hawaii</td>\n",
       "      <td>2548</td>\n",
       "      <td>20.276675</td>\n",
       "      <td>555.679749</td>\n",
       "    </tr>\n",
       "    <tr>\n",
       "      <th>12</th>\n",
       "      <td>Iowa</td>\n",
       "      <td>6335</td>\n",
       "      <td>21.310301</td>\n",
       "      <td>498.037885</td>\n",
       "    </tr>\n",
       "    <tr>\n",
       "      <th>13</th>\n",
       "      <td>Idaho</td>\n",
       "      <td>2471</td>\n",
       "      <td>20.143905</td>\n",
       "      <td>723.215297</td>\n",
       "    </tr>\n",
       "    <tr>\n",
       "      <th>14</th>\n",
       "      <td>Illinois</td>\n",
       "      <td>29618</td>\n",
       "      <td>20.112682</td>\n",
       "      <td>427.841887</td>\n",
       "    </tr>\n",
       "    <tr>\n",
       "      <th>15</th>\n",
       "      <td>Indiana</td>\n",
       "      <td>16097</td>\n",
       "      <td>19.925939</td>\n",
       "      <td>418.228179</td>\n",
       "    </tr>\n",
       "    <tr>\n",
       "      <th>16</th>\n",
       "      <td>Kansas</td>\n",
       "      <td>6447</td>\n",
       "      <td>18.028842</td>\n",
       "      <td>451.886769</td>\n",
       "    </tr>\n",
       "    <tr>\n",
       "      <th>17</th>\n",
       "      <td>Kentucky</td>\n",
       "      <td>13807</td>\n",
       "      <td>19.841834</td>\n",
       "      <td>323.580285</td>\n",
       "    </tr>\n",
       "    <tr>\n",
       "      <th>18</th>\n",
       "      <td>Louisiana</td>\n",
       "      <td>14756</td>\n",
       "      <td>19.567503</td>\n",
       "      <td>315.044321</td>\n",
       "    </tr>\n",
       "    <tr>\n",
       "      <th>19</th>\n",
       "      <td>Massachusetts</td>\n",
       "      <td>15193</td>\n",
       "      <td>32.685463</td>\n",
       "      <td>453.663069</td>\n",
       "    </tr>\n",
       "    <tr>\n",
       "      <th>20</th>\n",
       "      <td>Maryland</td>\n",
       "      <td>10836</td>\n",
       "      <td>13.300036</td>\n",
       "      <td>557.925434</td>\n",
       "    </tr>\n",
       "    <tr>\n",
       "      <th>21</th>\n",
       "      <td>Maine</td>\n",
       "      <td>2900</td>\n",
       "      <td>19.141736</td>\n",
       "      <td>463.521379</td>\n",
       "    </tr>\n",
       "    <tr>\n",
       "      <th>22</th>\n",
       "      <td>Michigan</td>\n",
       "      <td>23498</td>\n",
       "      <td>20.699559</td>\n",
       "      <td>425.008809</td>\n",
       "    </tr>\n",
       "    <tr>\n",
       "      <th>23</th>\n",
       "      <td>Minnesota</td>\n",
       "      <td>10528</td>\n",
       "      <td>19.284235</td>\n",
       "      <td>535.679331</td>\n",
       "    </tr>\n",
       "    <tr>\n",
       "      <th>24</th>\n",
       "      <td>Missouri</td>\n",
       "      <td>16710</td>\n",
       "      <td>20.510225</td>\n",
       "      <td>367.290724</td>\n",
       "    </tr>\n",
       "    <tr>\n",
       "      <th>25</th>\n",
       "      <td>Mississippi</td>\n",
       "      <td>9972</td>\n",
       "      <td>20.070076</td>\n",
       "      <td>298.450562</td>\n",
       "    </tr>\n",
       "    <tr>\n",
       "      <th>26</th>\n",
       "      <td>Montana</td>\n",
       "      <td>2197</td>\n",
       "      <td>20.853147</td>\n",
       "      <td>486.471552</td>\n",
       "    </tr>\n",
       "    <tr>\n",
       "      <th>27</th>\n",
       "      <td>North Carolina</td>\n",
       "      <td>22215</td>\n",
       "      <td>19.716183</td>\n",
       "      <td>472.117218</td>\n",
       "    </tr>\n",
       "    <tr>\n",
       "      <th>28</th>\n",
       "      <td>North Dakota</td>\n",
       "      <td>2003</td>\n",
       "      <td>20.287511</td>\n",
       "      <td>380.460310</td>\n",
       "    </tr>\n",
       "    <tr>\n",
       "      <th>29</th>\n",
       "      <td>Nebraska</td>\n",
       "      <td>4244</td>\n",
       "      <td>20.498636</td>\n",
       "      <td>455.798303</td>\n",
       "    </tr>\n",
       "    <tr>\n",
       "      <th>30</th>\n",
       "      <td>New Hampshire</td>\n",
       "      <td>2252</td>\n",
       "      <td>20.354519</td>\n",
       "      <td>603.779307</td>\n",
       "    </tr>\n",
       "    <tr>\n",
       "      <th>31</th>\n",
       "      <td>New Jersey</td>\n",
       "      <td>20210</td>\n",
       "      <td>20.626652</td>\n",
       "      <td>439.494805</td>\n",
       "    </tr>\n",
       "    <tr>\n",
       "      <th>32</th>\n",
       "      <td>New Mexico</td>\n",
       "      <td>3900</td>\n",
       "      <td>20.454377</td>\n",
       "      <td>537.648462</td>\n",
       "    </tr>\n",
       "    <tr>\n",
       "      <th>33</th>\n",
       "      <td>Nevada</td>\n",
       "      <td>5725</td>\n",
       "      <td>18.721190</td>\n",
       "      <td>538.018515</td>\n",
       "    </tr>\n",
       "    <tr>\n",
       "      <th>34</th>\n",
       "      <td>New York</td>\n",
       "      <td>56784</td>\n",
       "      <td>32.540512</td>\n",
       "      <td>342.588775</td>\n",
       "    </tr>\n",
       "    <tr>\n",
       "      <th>35</th>\n",
       "      <td>Ohio</td>\n",
       "      <td>27162</td>\n",
       "      <td>20.680709</td>\n",
       "      <td>430.347544</td>\n",
       "    </tr>\n",
       "    <tr>\n",
       "      <th>36</th>\n",
       "      <td>Oklahoma</td>\n",
       "      <td>10256</td>\n",
       "      <td>19.989665</td>\n",
       "      <td>385.820105</td>\n",
       "    </tr>\n",
       "    <tr>\n",
       "      <th>37</th>\n",
       "      <td>Oregon</td>\n",
       "      <td>6180</td>\n",
       "      <td>16.654549</td>\n",
       "      <td>682.481715</td>\n",
       "    </tr>\n",
       "    <tr>\n",
       "      <th>38</th>\n",
       "      <td>Pennsylvania</td>\n",
       "      <td>35762</td>\n",
       "      <td>14.576163</td>\n",
       "      <td>357.977434</td>\n",
       "    </tr>\n",
       "    <tr>\n",
       "      <th>39</th>\n",
       "      <td>Rhode Island</td>\n",
       "      <td>2424</td>\n",
       "      <td>21.036149</td>\n",
       "      <td>437.030116</td>\n",
       "    </tr>\n",
       "    <tr>\n",
       "      <th>40</th>\n",
       "      <td>South Carolina</td>\n",
       "      <td>11716</td>\n",
       "      <td>19.918806</td>\n",
       "      <td>439.460055</td>\n",
       "    </tr>\n",
       "    <tr>\n",
       "      <th>41</th>\n",
       "      <td>South Dakota</td>\n",
       "      <td>2754</td>\n",
       "      <td>21.018080</td>\n",
       "      <td>321.226943</td>\n",
       "    </tr>\n",
       "    <tr>\n",
       "      <th>42</th>\n",
       "      <td>Tennessee</td>\n",
       "      <td>18429</td>\n",
       "      <td>20.829626</td>\n",
       "      <td>370.566716</td>\n",
       "    </tr>\n",
       "    <tr>\n",
       "      <th>43</th>\n",
       "      <td>Texas</td>\n",
       "      <td>58435</td>\n",
       "      <td>18.337605</td>\n",
       "      <td>496.207427</td>\n",
       "    </tr>\n",
       "    <tr>\n",
       "      <th>44</th>\n",
       "      <td>Utah</td>\n",
       "      <td>4623</td>\n",
       "      <td>14.475841</td>\n",
       "      <td>693.479991</td>\n",
       "    </tr>\n",
       "    <tr>\n",
       "      <th>45</th>\n",
       "      <td>Virginia</td>\n",
       "      <td>17742</td>\n",
       "      <td>16.050498</td>\n",
       "      <td>481.091140</td>\n",
       "    </tr>\n",
       "    <tr>\n",
       "      <th>46</th>\n",
       "      <td>Vermont</td>\n",
       "      <td>828</td>\n",
       "      <td>21.020581</td>\n",
       "      <td>753.609903</td>\n",
       "    </tr>\n",
       "    <tr>\n",
       "      <th>47</th>\n",
       "      <td>Washington</td>\n",
       "      <td>10341</td>\n",
       "      <td>19.467794</td>\n",
       "      <td>736.378783</td>\n",
       "    </tr>\n",
       "    <tr>\n",
       "      <th>48</th>\n",
       "      <td>Wisconsin</td>\n",
       "      <td>11168</td>\n",
       "      <td>20.535583</td>\n",
       "      <td>521.349749</td>\n",
       "    </tr>\n",
       "    <tr>\n",
       "      <th>49</th>\n",
       "      <td>West Virginia</td>\n",
       "      <td>5916</td>\n",
       "      <td>21.177727</td>\n",
       "      <td>302.932218</td>\n",
       "    </tr>\n",
       "  </tbody>\n",
       "</table>\n",
       "</div>"
      ],
      "text/plain": [
       "                   State  Number of staffed beds  Death Percent  \\\n",
       "0                 Alaska                    1235      17.623701   \n",
       "1                Alabama                   15639      27.074566   \n",
       "2               Arkansas                    7818      20.363115   \n",
       "3                Arizona                   13434      20.389640   \n",
       "4             California                   73811      18.553872   \n",
       "5               Colorado                    8246      19.818004   \n",
       "6            Connecticut                    8851      20.988604   \n",
       "7   District of Columbia                    2151      19.227864   \n",
       "8               Delaware                    2042      18.007546   \n",
       "9                Florida                   56247      22.533865   \n",
       "10               Georgia                   22157      21.148818   \n",
       "11                Hawaii                    2548      20.276675   \n",
       "12                  Iowa                    6335      21.310301   \n",
       "13                 Idaho                    2471      20.143905   \n",
       "14              Illinois                   29618      20.112682   \n",
       "15               Indiana                   16097      19.925939   \n",
       "16                Kansas                    6447      18.028842   \n",
       "17              Kentucky                   13807      19.841834   \n",
       "18             Louisiana                   14756      19.567503   \n",
       "19         Massachusetts                   15193      32.685463   \n",
       "20              Maryland                   10836      13.300036   \n",
       "21                 Maine                    2900      19.141736   \n",
       "22              Michigan                   23498      20.699559   \n",
       "23             Minnesota                   10528      19.284235   \n",
       "24              Missouri                   16710      20.510225   \n",
       "25           Mississippi                    9972      20.070076   \n",
       "26               Montana                    2197      20.853147   \n",
       "27        North Carolina                   22215      19.716183   \n",
       "28          North Dakota                    2003      20.287511   \n",
       "29              Nebraska                    4244      20.498636   \n",
       "30         New Hampshire                    2252      20.354519   \n",
       "31            New Jersey                   20210      20.626652   \n",
       "32            New Mexico                    3900      20.454377   \n",
       "33                Nevada                    5725      18.721190   \n",
       "34              New York                   56784      32.540512   \n",
       "35                  Ohio                   27162      20.680709   \n",
       "36              Oklahoma                   10256      19.989665   \n",
       "37                Oregon                    6180      16.654549   \n",
       "38          Pennsylvania                   35762      14.576163   \n",
       "39          Rhode Island                    2424      21.036149   \n",
       "40        South Carolina                   11716      19.918806   \n",
       "41          South Dakota                    2754      21.018080   \n",
       "42             Tennessee                   18429      20.829626   \n",
       "43                 Texas                   58435      18.337605   \n",
       "44                  Utah                    4623      14.475841   \n",
       "45              Virginia                   17742      16.050498   \n",
       "46               Vermont                     828      21.020581   \n",
       "47            Washington                   10341      19.467794   \n",
       "48             Wisconsin                   11168      20.535583   \n",
       "49         West Virginia                    5916      21.177727   \n",
       "\n",
       "    People per Bed  \n",
       "0       592.344130  \n",
       "1       313.522923  \n",
       "2       386.007163  \n",
       "3       541.813086  \n",
       "4       535.316186  \n",
       "5       698.367208  \n",
       "6       402.811773  \n",
       "7       328.102743  \n",
       "8       476.867777  \n",
       "9       381.846801  \n",
       "10      479.190459  \n",
       "11      555.679749  \n",
       "12      498.037885  \n",
       "13      723.215297  \n",
       "14      427.841887  \n",
       "15      418.228179  \n",
       "16      451.886769  \n",
       "17      323.580285  \n",
       "18      315.044321  \n",
       "19      453.663069  \n",
       "20      557.925434  \n",
       "21      463.521379  \n",
       "22      425.008809  \n",
       "23      535.679331  \n",
       "24      367.290724  \n",
       "25      298.450562  \n",
       "26      486.471552  \n",
       "27      472.117218  \n",
       "28      380.460310  \n",
       "29      455.798303  \n",
       "30      603.779307  \n",
       "31      439.494805  \n",
       "32      537.648462  \n",
       "33      538.018515  \n",
       "34      342.588775  \n",
       "35      430.347544  \n",
       "36      385.820105  \n",
       "37      682.481715  \n",
       "38      357.977434  \n",
       "39      437.030116  \n",
       "40      439.460055  \n",
       "41      321.226943  \n",
       "42      370.566716  \n",
       "43      496.207427  \n",
       "44      693.479991  \n",
       "45      481.091140  \n",
       "46      753.609903  \n",
       "47      736.378783  \n",
       "48      521.349749  \n",
       "49      302.932218  "
      ]
     },
     "execution_count": 56,
     "metadata": {},
     "output_type": "execute_result"
    }
   ],
   "source": [
    "stafbeds['Death Percent']= deathper #adds deathper to stafbed\n",
    "stafbeds.head(50)"
   ]
  },
  {
   "cell_type": "code",
   "execution_count": 57,
   "metadata": {},
   "outputs": [
    {
     "data": {
      "text/plain": [
       "-0.2998563416498537"
      ]
     },
     "execution_count": 57,
     "metadata": {},
     "output_type": "execute_result"
    }
   ],
   "source": [
    "stafbeds['People per Bed'].corr(stafbeds['Death Percent'], method='pearson') #correlation of values"
   ]
  },
  {
   "cell_type": "markdown",
   "metadata": {},
   "source": [
    "Element 5: fitting a curve"
   ]
  },
  {
   "cell_type": "code",
   "execution_count": 58,
   "metadata": {},
   "outputs": [
    {
     "data": {
      "text/plain": [
       "array([-8.30624482e-03,  2.41324824e+01])"
      ]
     },
     "execution_count": 58,
     "metadata": {},
     "output_type": "execute_result"
    }
   ],
   "source": [
    "def func(x, a, b):\n",
    "    return a*x + b #linear approximation equation\n",
    "popt, pcov = curve_fit(func, stafbeds['People per Bed'], stafbeds['Death Percent'])\n",
    "popt"
   ]
  },
  {
   "cell_type": "code",
   "execution_count": 59,
   "metadata": {},
   "outputs": [
    {
     "data": {
      "text/plain": [
       "0    19.215185\n",
       "1    21.532628\n",
       "2    20.926272\n",
       "Name: People per Bed, dtype: float64"
      ]
     },
     "execution_count": 59,
     "metadata": {},
     "output_type": "execute_result"
    }
   ],
   "source": [
    "stafbeds['People per Bed'] = stafbeds['People per Bed'].astype(int) #Wasn't working without being set as int\n",
    "comp = popt[0]*stafbeds['People per Bed']+popt[1] #taking best fit for a and b from linear equation\n",
    "comp[0:3]#test"
   ]
  },
  {
   "cell_type": "markdown",
   "metadata": {},
   "source": [
    "Element 4: Plotting one parameter vs another and using the plot for analysis of some kind"
   ]
  },
  {
   "cell_type": "code",
   "execution_count": 60,
   "metadata": {},
   "outputs": [
    {
     "data": {
      "text/plain": [
       "[<matplotlib.lines.Line2D at 0x7ff36d971d30>]"
      ]
     },
     "execution_count": 60,
     "metadata": {},
     "output_type": "execute_result"
    },
    {
     "data": {
      "image/png": "[encoded data removed]",
      "text/plain": [
       "<Figure size 432x288 with 1 Axes>"
      ]
     },
     "metadata": {
      "needs_background": "light"
     },
     "output_type": "display_data"
    }
   ],
   "source": [
    "plt.plot(stafbeds['People per Bed'], stafbeds['Death Percent'], '.') #plot graph \n",
    "plt.xlabel(\"People per staffed hospital Bed\")\n",
    "plt.ylabel(\"Death % of Infected\")\n",
    "plt.title('State Death Rate')\n",
    "plt.plot(stafbeds['People per Bed'], comp, '-') #best fit line\n"
   ]
  },
  {
   "cell_type": "markdown",
   "metadata": {},
   "source": [
    "Element 6: Using only a subset of the data that meet some criterion"
   ]
  },
  {
   "cell_type": "code",
   "execution_count": 61,
   "metadata": {},
   "outputs": [
    {
     "data": {
      "text/plain": [
       "Text(0.5, 1.0, 'State Death Rate edited')"
      ]
     },
     "execution_count": 61,
     "metadata": {},
     "output_type": "execute_result"
    },
    {
     "data": {
      "image/png": "[encoded data removed]",
      "text/plain": [
       "<Figure size 432x288 with 1 Axes>"
      ]
     },
     "metadata": {
      "needs_background": "light"
     },
     "output_type": "display_data"
    }
   ],
   "source": [
    "upper_death = np.percentile(stafbeds['Death Percent'], 94)#finds values in death percent that is in the 94th percentile\n",
    "lower_death = np.percentile(stafbeds['Death Percent'], 6) #and 6th percentile\n",
    "do = np.where((stafbeds['Death Percent'] < upper_death) & (stafbeds['Death Percent'] > lower_death))#stes perameters using \n",
    "#upper and lower deaths\n",
    "plt.plot(stafbeds.loc[do]['People per Bed'], stafbeds.loc[do]['Death Percent'], '.') #plots new parameterized graph\n",
    "plt.xlabel(\"People per Bed\")\n",
    "plt.ylabel(\"Death % of Infected\")\n",
    "plt.title('State Death Rate edited')\n",
    "\n"
   ]
  },
  {
   "cell_type": "markdown",
   "metadata": {},
   "source": [
    "It was a little strange that it had a negative correlation, so I checked to make everything was lined up right in the data. I took the location of each needed data point, and set it to the state Pennsyvania from its original data set. I then calculated the values by hand. They were equal to the staf bed values, so it is a correct graph. "
   ]
  },
  {
   "cell_type": "markdown",
   "metadata": {},
   "source": [
    "Test suite:"
   ]
  },
  {
   "cell_type": "code",
   "execution_count": 62,
   "metadata": {},
   "outputs": [
    {
     "data": {
      "text/plain": [
       "-0.26276353125688334"
      ]
     },
     "execution_count": 62,
     "metadata": {},
     "output_type": "execute_result"
    }
   ],
   "source": [
    "stafbeds.loc[do]['People per Bed'].corr(stafbeds.loc[do]['Death Percent'], method='pearson')"
   ]
  },
  {
   "cell_type": "markdown",
   "metadata": {},
   "source": [
    "Negative correlation of -0.263"
   ]
  },
  {
   "cell_type": "code",
   "execution_count": 63,
   "metadata": {},
   "outputs": [
    {
     "data": {
      "text/plain": [
       "1707.3740000000003"
      ]
     },
     "execution_count": 63,
     "metadata": {},
     "output_type": "execute_result"
    }
   ],
   "source": [
    "sum(Hospit.loc[Hospit['location_name']=='Pennsylvania'].deaths_mean)\n"
   ]
  },
  {
   "cell_type": "code",
   "execution_count": 64,
   "metadata": {},
   "outputs": [
    {
     "data": {
      "text/plain": [
       "11713.466532528999"
      ]
     },
     "execution_count": 64,
     "metadata": {},
     "output_type": "execute_result"
    }
   ],
   "source": [
    "sum(Hospit.loc[Hospit['location_name']=='Pennsylvania'].admis_mean)"
   ]
  },
  {
   "cell_type": "code",
   "execution_count": 65,
   "metadata": {},
   "outputs": [
    {
     "data": {
      "text/plain": [
       "0.14576163215718593"
      ]
     },
     "execution_count": 65,
     "metadata": {},
     "output_type": "execute_result"
    }
   ],
   "source": [
    "1707.3740000000003/11713.466532528999"
   ]
  },
  {
   "cell_type": "code",
   "execution_count": 66,
   "metadata": {},
   "outputs": [
    {
     "data": {
      "text/plain": [
       "46    12801989\n",
       "Name: Population, dtype: int64"
      ]
     },
     "execution_count": 66,
     "metadata": {},
     "output_type": "execute_result"
    }
   ],
   "source": [
    "statepop.loc[statepop['state']=='Pennsylvania'].Population"
   ]
  },
  {
   "cell_type": "code",
   "execution_count": 67,
   "metadata": {},
   "outputs": [
    {
     "data": {
      "text/plain": [
       "38    35762\n",
       "Name: Number of staffed beds, dtype: int64"
      ]
     },
     "execution_count": 67,
     "metadata": {},
     "output_type": "execute_result"
    }
   ],
   "source": [
    "stafbeds.loc[stafbeds['State']=='Pennsylvania']['Number of staffed beds']"
   ]
  },
  {
   "cell_type": "code",
   "execution_count": 68,
   "metadata": {},
   "outputs": [
    {
     "data": {
      "text/plain": [
       "357.97743414797833"
      ]
     },
     "execution_count": 68,
     "metadata": {},
     "output_type": "execute_result"
    }
   ],
   "source": [
    "12801989/35762\n"
   ]
  },
  {
   "cell_type": "markdown",
   "metadata": {},
   "source": [
    "# Why I think the correlation is negative:"
   ]
  },
  {
   "cell_type": "markdown",
   "metadata": {},
   "source": [
    "The correlation is negative, meaning that the more people per medically staffed bed the state, the lower the mortality rate. This is contradictory to what I thought it would look like.\n",
    "My theory: The y value is not depended on the x value. They are both indpendent, but come from the same trend. In general places that are more prone to injury or sickness (possibly due to high density of people) will need more staffed hospital beds in general to deal with the high number of sickness/injury. The corona virus is no different, so states more \"prone\" to sickness are also the same states that are prepared with more staffed beds. "
   ]
  }
 ],
 "metadata": {
  "kernelspec": {
   "display_name": "python-3.6.8",
   "language": "python",
   "name": "python-3.6.8"
  },
  "language_info": {
   "codemirror_mode": {
    "name": "ipython",
    "version": 3
   },
   "file_extension": ".py",
   "mimetype": "text/x-python",
   "name": "python",
   "nbconvert_exporter": "python",
   "pygments_lexer": "ipython3",
   "version": "3.6.8"
  }
 },
 "nbformat": 4,
 "nbformat_minor": 2
}
